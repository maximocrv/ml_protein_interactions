{
 "cells": [
  {
   "cell_type": "code",
   "execution_count": 4,
   "metadata": {},
   "outputs": [
    {
     "data": {
      "text/plain": [
       "Index(['Unnamed: 0', 'mut', 'd_mat_wt_mean', 'd_mat_wt_std', 'u_lj_wt_mean',\n",
       "       'u_lj_wt_std', 'u_el_wt_mean', 'u_el_wt_std', 'temp', 'DDG'],\n",
       "      dtype='object')"
      ]
     },
     "execution_count": 4,
     "metadata": {},
     "output_type": "execute_result"
    }
   ],
   "source": [
    "import pandas as pd\n",
    "import numpy as np \n",
    "from sklearn.model_selection import train_test_split\n",
    "from sklearn.linear_model import LinearRegression\n",
    "import matplotlib.pyplot as plt"
   ]
  },
  {
   "cell_type": "markdown",
   "metadata": {},
   "source": [
    "## DATA EXPLORATION THINGS"
   ]
  },
  {
   "cell_type": "code",
   "execution_count": 6,
   "metadata": {},
   "outputs": [
    {
     "name": "stdout",
     "output_type": "stream",
     "text": [
      "(354,) (354,)\n",
      "1.5130850781421008\n",
      "1.25473146662733\n"
     ]
    },
    {
     "data": {
      "text/plain": [
       "<matplotlib.collections.PathCollection at 0x7f9e446251d0>"
      ]
     },
     "execution_count": 6,
     "metadata": {},
     "output_type": "execute_result"
    },
    {
     "data": {
      "image/png": "[encoded data removed]",
      "text/plain": [
       "<Figure size 432x288 with 1 Axes>"
      ]
     },
     "metadata": {
      "needs_background": "light"
     },
     "output_type": "display_data"
    }
   ],
   "source": [
    "df = pd.read_csv('../data/mlp_features.csv')\n",
    "df.drop(columns=['mut', 'Unnamed: 0'], inplace=True)\n",
    "x, y = np.array(df.iloc[:, 1:-1]), np.array(df.iloc[:, -1])\n",
    "x_tr, x_te, y_tr, y_te = train_test_split(x, y, test_size=0.2, random_state=42)\n",
    "reg = LinearRegression().fit(x_tr, y_tr)\n",
    "y_pred = reg.predict(x_te)\n",
    "print(y_te.shape, y_pred.shape)\n",
    "print(np.mean(np.abs((y_pred - y_te))))\n",
    "print(y_te.mean())\n",
    "plt.scatter(np.arange(len(y_te)), np.sort(y_te))"
   ]
  },
  {
   "cell_type": "code",
   "execution_count": null,
   "metadata": {},
   "outputs": [],
   "source": []
  }
 ],
 "metadata": {
  "kernelspec": {
   "display_name": "Python 3",
   "language": "python",
   "name": "python3"
  },
  "language_info": {
   "codemirror_mode": {
    "name": "ipython",
    "version": 3
   },
   "file_extension": ".py",
   "mimetype": "text/x-python",
   "name": "python",
   "nbconvert_exporter": "python",
   "pygments_lexer": "ipython3",
   "version": "3.7.8"
  }
 },
 "nbformat": 4,
 "nbformat_minor": 4
}
