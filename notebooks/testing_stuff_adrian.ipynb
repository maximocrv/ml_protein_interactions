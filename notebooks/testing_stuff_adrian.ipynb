{
 "cells": [
  {
   "cell_type": "code",
   "execution_count": 19,
   "metadata": {},
   "outputs": [],
   "source": [
    "import numpy as np\n",
    "import pandas as pd\n",
    "import math"
   ]
  },
  {
   "cell_type": "code",
   "execution_count": 4,
   "metadata": {},
   "outputs": [],
   "source": [
    "df = pd.read_csv('../data/skempi_v2.csv', sep=';')"
   ]
  },
  {
   "cell_type": "code",
   "execution_count": 7,
   "metadata": {},
   "outputs": [
    {
     "data": {
      "text/plain": [
       "#Pdb                               0\n",
       "Mutation(s)_PDB                    0\n",
       "Mutation(s)_cleaned                0\n",
       "iMutation_Location(s)              0\n",
       "Hold_out_type                   3682\n",
       "Hold_out_proteins                  0\n",
       "Affinity_mut (M)                   0\n",
       "Affinity_mut_parsed              285\n",
       "Affinity_wt (M)                    0\n",
       "Affinity_wt_parsed                 2\n",
       "Reference                          0\n",
       "Protein 1                          0\n",
       "Protein 2                          0\n",
       "Temperature                        4\n",
       "kon_mut (M^(-1)s^(-1))          5169\n",
       "kon_mut_parsed                  5169\n",
       "kon_wt (M^(-1)s^(-1))           5160\n",
       "kon_wt_parsed                   5160\n",
       "koff_mut (s^(-1))               5169\n",
       "koff_mut_parsed                 5169\n",
       "koff_wt (s^(-1))                5153\n",
       "koff_wt_parsed                  5153\n",
       "dH_mut (kcal mol^(-1))          6550\n",
       "dH_wt (kcal mol^(-1))           6550\n",
       "dS_mut (cal mol^(-1) K^(-1))    6550\n",
       "dS_wt (cal mol^(-1) K^(-1))     6550\n",
       "Notes                           4023\n",
       "Method                             0\n",
       "SKEMPI version                     0\n",
       "dtype: int64"
      ]
     },
     "execution_count": 7,
     "metadata": {},
     "output_type": "execute_result"
    }
   ],
   "source": [
    "df.isnull().sum()"
   ]
  },
  {
   "cell_type": "code",
   "execution_count": 9,
   "metadata": {},
   "outputs": [],
   "source": [
    "n = df[df.isnull()]"
   ]
  },
  {
   "cell_type": "code",
   "execution_count": 24,
   "metadata": {},
   "outputs": [
    {
     "data": {
      "text/plain": [
       "True"
      ]
     },
     "execution_count": 24,
     "metadata": {},
     "output_type": "execute_result"
    }
   ],
   "source": [
    "math.isnan(n[\"Temperature\"][0])"
   ]
  },
  {
   "cell_type": "code",
   "execution_count": 33,
   "metadata": {},
   "outputs": [],
   "source": [
    "df = pd.DataFrame(columns=['A', 'B', 'C', 'D', 'E_e', 'F'])\n",
    "\n",
    "for i in range(5):\n",
    "    df = df.append({'A': i, 'B': i*i,'C': i*i,'D': i*i,'E_e': i*i,'F': i*i*0.1}, ignore_index=True)"
   ]
  },
  {
   "cell_type": "code",
   "execution_count": 34,
   "metadata": {},
   "outputs": [
    {
     "data": {
      "text/html": [
       "<div>\n",
       "<style scoped>\n",
       "    .dataframe tbody tr th:only-of-type {\n",
       "        vertical-align: middle;\n",
       "    }\n",
       "\n",
       "    .dataframe tbody tr th {\n",
       "        vertical-align: top;\n",
       "    }\n",
       "\n",
       "    .dataframe thead th {\n",
       "        text-align: right;\n",
       "    }\n",
       "</style>\n",
       "<table border=\"1\" class=\"dataframe\">\n",
       "  <thead>\n",
       "    <tr style=\"text-align: right;\">\n",
       "      <th></th>\n",
       "      <th>A</th>\n",
       "      <th>B</th>\n",
       "      <th>C</th>\n",
       "      <th>D</th>\n",
       "      <th>E_e</th>\n",
       "      <th>F</th>\n",
       "    </tr>\n",
       "  </thead>\n",
       "  <tbody>\n",
       "    <tr>\n",
       "      <th>0</th>\n",
       "      <td>0.0</td>\n",
       "      <td>0.0</td>\n",
       "      <td>0.0</td>\n",
       "      <td>0.0</td>\n",
       "      <td>0.0</td>\n",
       "      <td>0.0</td>\n",
       "    </tr>\n",
       "    <tr>\n",
       "      <th>1</th>\n",
       "      <td>1.0</td>\n",
       "      <td>1.0</td>\n",
       "      <td>1.0</td>\n",
       "      <td>1.0</td>\n",
       "      <td>1.0</td>\n",
       "      <td>0.1</td>\n",
       "    </tr>\n",
       "    <tr>\n",
       "      <th>2</th>\n",
       "      <td>2.0</td>\n",
       "      <td>4.0</td>\n",
       "      <td>4.0</td>\n",
       "      <td>4.0</td>\n",
       "      <td>4.0</td>\n",
       "      <td>0.4</td>\n",
       "    </tr>\n",
       "    <tr>\n",
       "      <th>3</th>\n",
       "      <td>3.0</td>\n",
       "      <td>9.0</td>\n",
       "      <td>9.0</td>\n",
       "      <td>9.0</td>\n",
       "      <td>9.0</td>\n",
       "      <td>0.9</td>\n",
       "    </tr>\n",
       "    <tr>\n",
       "      <th>4</th>\n",
       "      <td>4.0</td>\n",
       "      <td>16.0</td>\n",
       "      <td>16.0</td>\n",
       "      <td>16.0</td>\n",
       "      <td>16.0</td>\n",
       "      <td>1.6</td>\n",
       "    </tr>\n",
       "  </tbody>\n",
       "</table>\n",
       "</div>"
      ],
      "text/plain": [
       "     A     B     C     D   E_e    F\n",
       "0  0.0   0.0   0.0   0.0   0.0  0.0\n",
       "1  1.0   1.0   1.0   1.0   1.0  0.1\n",
       "2  2.0   4.0   4.0   4.0   4.0  0.4\n",
       "3  3.0   9.0   9.0   9.0   9.0  0.9\n",
       "4  4.0  16.0  16.0  16.0  16.0  1.6"
      ]
     },
     "execution_count": 34,
     "metadata": {},
     "output_type": "execute_result"
    }
   ],
   "source": [
    "df"
   ]
  },
  {
   "cell_type": "markdown",
   "metadata": {},
   "source": [
    "x_train, x_test, y_train, y_test = train_test_split(x, y, test_size=0.2, random_state=random_state)\n",
    "# generate train and test  split. We will use k-fold on the train data for tuning our model\n",
    "for hyperparam in hyperparams:\n",
    "           for k_indices in k_fold_indices:\n",
    "                       train = train[~k_indices]\n",
    "                       test = test[k_indices] # these two lines are applied for input and output data\n",
    "                       train_model(train, test)\n",
    "                       obtain metric for model\n",
    "             average out model metrics for all k folds for this hyperparam config and store the info"
   ]
  }
 ],
 "metadata": {
  "kernelspec": {
   "display_name": "Python 3",
   "language": "python",
   "name": "python3"
  },
  "language_info": {
   "codemirror_mode": {
    "name": "ipython",
    "version": 3
   },
   "file_extension": ".py",
   "mimetype": "text/x-python",
   "name": "python",
   "nbconvert_exporter": "python",
   "pygments_lexer": "ipython3",
   "version": "3.7.8"
  }
 },
 "nbformat": 4,
 "nbformat_minor": 4
}
