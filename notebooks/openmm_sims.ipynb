{
 "cells": [
  {
   "cell_type": "markdown",
   "metadata": {},
   "source": [
    "## Running OpenMM simulations"
   ]
  },
  {
   "cell_type": "code",
   "execution_count": 1,
   "metadata": {},
   "outputs": [],
   "source": [
    "import os\n",
    "from sys import stdout\n",
    "\n",
    "from simtk.openmm.app import *\n",
    "from simtk.openmm import *\n",
    "from simtk.unit import *"
   ]
  },
  {
   "cell_type": "code",
   "execution_count": 2,
   "metadata": {},
   "outputs": [],
   "source": [
    "root_dir_pdbs = '../data/pdbs_mutated_cleaned/'\n",
    "root_dir_openmm = '../data/openmm_output/'\n",
    "pdb_list = os.listdir(root_dir_pdbs)"
   ]
  },
  {
   "cell_type": "code",
   "execution_count": null,
   "metadata": {},
   "outputs": [
    {
     "name": "stdout",
     "output_type": "stream",
     "text": [
      "could not simulate 3QHY_A_B_WB13A.pdb\n"
     ]
    }
   ],
   "source": [
    "unsimulatables = []\n",
    "\n",
    "for ele in pdb_list:    \n",
    "    try:\n",
    "        pdb = PDBFile(root_dir_pdbs + f'{ele}')\n",
    "        forcefield = ForceField('amber99sb.xml', 'tip3p.xml')\n",
    "        # changed nonbondedMethod to NoCutoff from PME\n",
    "        system = forcefield.createSystem(pdb.topology, nonbondedMethod=NoCutoff,\n",
    "                nonbondedCutoff=1*nanometer, constraints=HBonds)\n",
    "        integrator = LangevinIntegrator(300*kelvin, 1/picosecond, 0.002*picoseconds)\n",
    "        simulation = Simulation(pdb.topology, system, integrator)\n",
    "        simulation.context.setPositions(pdb.positions)\n",
    "        simulation.minimizeEnergy()\n",
    "    #     simulation.reporters.append(PDBReporter(root_dir_openmm + f'{ele[:-4]}', 1000))\n",
    "        simulation.reporters.append(StateDataReporter(root_dir_openmm + f'{ele[:-4]}', 1000, step=True, time=True, \n",
    "                                                      potentialEnergy=True, kineticEnergy=True, totalEnergy=True, \n",
    "                                                      temperature=True, volume=True, density=True)) \n",
    "        simulation.step(20000)\n",
    "        \n",
    "    except:\n",
    "        print(f\"could not simulate {ele}\")\n",
    "        unsimulatables.append(ele)"
   ]
  }
 ],
 "metadata": {
  "kernelspec": {
   "display_name": "Python 3",
   "language": "python",
   "name": "python3"
  },
  "language_info": {
   "codemirror_mode": {
    "name": "ipython",
    "version": 3
   },
   "file_extension": ".py",
   "mimetype": "text/x-python",
   "name": "python",
   "nbconvert_exporter": "python",
   "pygments_lexer": "ipython3",
   "version": "3.7.8"
  }
 },
 "nbformat": 4,
 "nbformat_minor": 4
}
