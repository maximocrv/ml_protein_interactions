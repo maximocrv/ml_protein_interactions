{
 "cells": [
  {
   "cell_type": "code",
   "execution_count": 2,
   "metadata": {},
   "outputs": [],
   "source": [
    "import numpy as np\n",
    "import parmed as pmd\n",
    "import simtk.unit as su\n",
    "import simtk.openmm as so\n",
    "from pdbfixer import PDBFixer\n",
    "\n",
    "# dependencies: numpy, parmed, openmm, pdbfixer, (nglview)"
   ]
  },
  {
   "cell_type": "markdown",
   "metadata": {},
   "source": [
    "### Parameters"
   ]
  },
  {
   "cell_type": "code",
   "execution_count": 5,
   "metadata": {},
   "outputs": [],
   "source": [
    "# parameters\n",
    "tmp_filepath = \"output.pdb\"  # temporary pdb due to pdbfixer\n",
    "# pdb_filepath = \"../data/skempi/pdbs_mutated/1DAN_HL_UT_NU17A.pdb\"  # input pdb filepath\n",
    "pdb_filepath = '../data/pdbs/1A22.pdb'\n",
    "pdb_filepath = '../data/pdbs_mutated/3QHY_A_B_WB13A.pdb'\n",
    "subunits_chains = [['A'],\n",
    "                   ['B']]  # list of chains (molecules) interacting (could be automatically parsed from filename)\n",
    "\n",
    "# other random test (multiple mutations)\n",
    "#pdb_filepath = \"data/skempi/pdbs_mutated/2B2X_HL_A_VH50T_EH64K_QL28S_YL52D.pdb\"\n",
    "#subunits_chains = [['H','L'],['A']]"
   ]
  },
  {
   "cell_type": "markdown",
   "metadata": {},
   "source": [
    "### Structure processing"
   ]
  },
  {
   "cell_type": "code",
   "execution_count": 6,
   "metadata": {},
   "outputs": [],
   "source": [
    "# preprocess pdb file to fix numbering and formatting issues\n",
    "pdb = pmd.load_file(pdb_filepath)\n",
    "pdb.save(pdb_filepath, overwrite=True)"
   ]
  },
  {
   "cell_type": "code",
   "execution_count": 7,
   "metadata": {},
   "outputs": [],
   "source": [
    "# repaire and prepare pdb structure\n",
    "fixer = PDBFixer(filename=pdb_filepath)\n",
    "fixer.findMissingResidues()\n",
    "fixer.findNonstandardResidues()\n",
    "fixer.replaceNonstandardResidues()\n",
    "fixer.removeHeterogens(False)\n",
    "fixer.findMissingAtoms()\n",
    "fixer.addMissingAtoms()\n",
    "fixer.addMissingHydrogens(7.0)"
   ]
  },
  {
   "cell_type": "markdown",
   "metadata": {},
   "source": [
    "### Parametrization"
   ]
  },
  {
   "cell_type": "code",
   "execution_count": 8,
   "metadata": {
    "scrolled": true
   },
   "outputs": [
    {
     "ename": "ValueError",
     "evalue": "No template found for residue 259 (ALA).  The set of atoms matches NSER, but the bonds are different.",
     "output_type": "error",
     "traceback": [
      "\u001b[0;31m---------------------------------------------------------------------------\u001b[0m",
      "\u001b[0;31mValueError\u001b[0m                                Traceback (most recent call last)",
      "\u001b[0;32m<ipython-input-8-c9cbd612b672>\u001b[0m in \u001b[0;36m<module>\u001b[0;34m\u001b[0m\n\u001b[1;32m      1\u001b[0m \u001b[0;31m# parameterize interactions\u001b[0m\u001b[0;34m\u001b[0m\u001b[0;34m\u001b[0m\u001b[0;34m\u001b[0m\u001b[0m\n\u001b[1;32m      2\u001b[0m \u001b[0mforcefield\u001b[0m \u001b[0;34m=\u001b[0m \u001b[0mso\u001b[0m\u001b[0;34m.\u001b[0m\u001b[0mapp\u001b[0m\u001b[0;34m.\u001b[0m\u001b[0mForceField\u001b[0m\u001b[0;34m(\u001b[0m\u001b[0;34m'amber14-all.xml'\u001b[0m\u001b[0;34m,\u001b[0m \u001b[0;34m'amber14/tip3pfb.xml'\u001b[0m\u001b[0;34m)\u001b[0m\u001b[0;34m\u001b[0m\u001b[0;34m\u001b[0m\u001b[0m\n\u001b[0;32m----> 3\u001b[0;31m \u001b[0msystem\u001b[0m \u001b[0;34m=\u001b[0m \u001b[0mforcefield\u001b[0m\u001b[0;34m.\u001b[0m\u001b[0mcreateSystem\u001b[0m\u001b[0;34m(\u001b[0m\u001b[0mfixer\u001b[0m\u001b[0;34m.\u001b[0m\u001b[0mtopology\u001b[0m\u001b[0;34m,\u001b[0m \u001b[0mnonbondedMethod\u001b[0m\u001b[0;34m=\u001b[0m\u001b[0mso\u001b[0m\u001b[0;34m.\u001b[0m\u001b[0mapp\u001b[0m\u001b[0;34m.\u001b[0m\u001b[0mNoCutoff\u001b[0m\u001b[0;34m)\u001b[0m\u001b[0;34m\u001b[0m\u001b[0;34m\u001b[0m\u001b[0m\n\u001b[0m\u001b[1;32m      4\u001b[0m \u001b[0mparam\u001b[0m \u001b[0;34m=\u001b[0m \u001b[0mpmd\u001b[0m\u001b[0;34m.\u001b[0m\u001b[0mopenmm\u001b[0m\u001b[0;34m.\u001b[0m\u001b[0mload_topology\u001b[0m\u001b[0;34m(\u001b[0m\u001b[0mfixer\u001b[0m\u001b[0;34m.\u001b[0m\u001b[0mtopology\u001b[0m\u001b[0;34m,\u001b[0m \u001b[0msystem\u001b[0m\u001b[0;34m=\u001b[0m\u001b[0msystem\u001b[0m\u001b[0;34m,\u001b[0m \u001b[0mxyz\u001b[0m\u001b[0;34m=\u001b[0m\u001b[0mfixer\u001b[0m\u001b[0;34m.\u001b[0m\u001b[0mpositions\u001b[0m\u001b[0;34m)\u001b[0m\u001b[0;34m\u001b[0m\u001b[0;34m\u001b[0m\u001b[0m\n",
      "\u001b[0;32m~/anaconda3/envs/ml_protein_protein/lib/python3.7/site-packages/simtk/openmm/app/forcefield.py\u001b[0m in \u001b[0;36mcreateSystem\u001b[0;34m(self, topology, nonbondedMethod, nonbondedCutoff, constraints, rigidWater, removeCMMotion, hydrogenMass, residueTemplates, ignoreExternalBonds, switchDistance, flexibleConstraints, **args)\u001b[0m\n\u001b[1;32m   1172\u001b[0m                             \u001b[0;32mbreak\u001b[0m\u001b[0;34m\u001b[0m\u001b[0;34m\u001b[0m\u001b[0m\n\u001b[1;32m   1173\u001b[0m             \u001b[0;32mif\u001b[0m \u001b[0mmatches\u001b[0m \u001b[0;32mis\u001b[0m \u001b[0;32mNone\u001b[0m\u001b[0;34m:\u001b[0m\u001b[0;34m\u001b[0m\u001b[0;34m\u001b[0m\u001b[0m\n\u001b[0;32m-> 1174\u001b[0;31m                 \u001b[0;32mraise\u001b[0m \u001b[0mValueError\u001b[0m\u001b[0;34m(\u001b[0m\u001b[0;34m'No template found for residue %d (%s).  %s'\u001b[0m \u001b[0;34m%\u001b[0m \u001b[0;34m(\u001b[0m\u001b[0mres\u001b[0m\u001b[0;34m.\u001b[0m\u001b[0mindex\u001b[0m\u001b[0;34m+\u001b[0m\u001b[0;36m1\u001b[0m\u001b[0;34m,\u001b[0m \u001b[0mres\u001b[0m\u001b[0;34m.\u001b[0m\u001b[0mname\u001b[0m\u001b[0;34m,\u001b[0m \u001b[0m_findMatchErrors\u001b[0m\u001b[0;34m(\u001b[0m\u001b[0mself\u001b[0m\u001b[0;34m,\u001b[0m \u001b[0mres\u001b[0m\u001b[0;34m)\u001b[0m\u001b[0;34m)\u001b[0m\u001b[0;34m)\u001b[0m\u001b[0;34m\u001b[0m\u001b[0;34m\u001b[0m\u001b[0m\n\u001b[0m\u001b[1;32m   1175\u001b[0m             \u001b[0;32melse\u001b[0m\u001b[0;34m:\u001b[0m\u001b[0;34m\u001b[0m\u001b[0;34m\u001b[0m\u001b[0m\n\u001b[1;32m   1176\u001b[0m                 \u001b[0mdata\u001b[0m\u001b[0;34m.\u001b[0m\u001b[0mrecordMatchedAtomParameters\u001b[0m\u001b[0;34m(\u001b[0m\u001b[0mres\u001b[0m\u001b[0;34m,\u001b[0m \u001b[0mtemplate\u001b[0m\u001b[0;34m,\u001b[0m \u001b[0mmatches\u001b[0m\u001b[0;34m)\u001b[0m\u001b[0;34m\u001b[0m\u001b[0;34m\u001b[0m\u001b[0m\n",
      "\u001b[0;31mValueError\u001b[0m: No template found for residue 259 (ALA).  The set of atoms matches NSER, but the bonds are different."
     ]
    }
   ],
   "source": [
    "# parameterize interactions\n",
    "forcefield = so.app.ForceField('amber14-all.xml', 'amber14/tip3pfb.xml')\n",
    "system = forcefield.createSystem(fixer.topology, nonbondedMethod=so.app.NoCutoff)\n",
    "param = pmd.openmm.load_topology(fixer.topology, system=system, xyz=fixer.positions)"
   ]
  },
  {
   "cell_type": "code",
   "execution_count": 10,
   "metadata": {
    "scrolled": true
   },
   "outputs": [
    {
     "data": {
      "text/html": [
       "<div>\n",
       "<style scoped>\n",
       "    .dataframe tbody tr th:only-of-type {\n",
       "        vertical-align: middle;\n",
       "    }\n",
       "\n",
       "    .dataframe tbody tr th {\n",
       "        vertical-align: top;\n",
       "    }\n",
       "\n",
       "    .dataframe thead th {\n",
       "        text-align: right;\n",
       "    }\n",
       "</style>\n",
       "<table border=\"1\" class=\"dataframe\">\n",
       "  <thead>\n",
       "    <tr style=\"text-align: right;\">\n",
       "      <th></th>\n",
       "      <th>number</th>\n",
       "      <th>name</th>\n",
       "      <th>type</th>\n",
       "      <th>atomic_number</th>\n",
       "      <th>charge</th>\n",
       "      <th>mass</th>\n",
       "      <th>nb_idx</th>\n",
       "      <th>solvent_radius</th>\n",
       "      <th>screen</th>\n",
       "      <th>occupancy</th>\n",
       "      <th>...</th>\n",
       "      <th>rmin_14</th>\n",
       "      <th>epsilon_14</th>\n",
       "      <th>resname</th>\n",
       "      <th>resid</th>\n",
       "      <th>resnum</th>\n",
       "      <th>chain</th>\n",
       "      <th>segid</th>\n",
       "      <th>xx</th>\n",
       "      <th>xy</th>\n",
       "      <th>xz</th>\n",
       "    </tr>\n",
       "  </thead>\n",
       "  <tbody>\n",
       "    <tr>\n",
       "      <th>0</th>\n",
       "      <td>-1</td>\n",
       "      <td>N</td>\n",
       "      <td>N1</td>\n",
       "      <td>7</td>\n",
       "      <td>0.1737</td>\n",
       "      <td>14.006720</td>\n",
       "      <td>0</td>\n",
       "      <td>0.0</td>\n",
       "      <td>0.0</td>\n",
       "      <td>0.0</td>\n",
       "      <td>...</td>\n",
       "      <td>1.82400</td>\n",
       "      <td>0.1700</td>\n",
       "      <td>PHE</td>\n",
       "      <td>0</td>\n",
       "      <td>0</td>\n",
       "      <td>A</td>\n",
       "      <td></td>\n",
       "      <td>73.227000</td>\n",
       "      <td>31.442001</td>\n",
       "      <td>101.409998</td>\n",
       "    </tr>\n",
       "    <tr>\n",
       "      <th>1</th>\n",
       "      <td>-1</td>\n",
       "      <td>H</td>\n",
       "      <td>H1</td>\n",
       "      <td>1</td>\n",
       "      <td>0.1921</td>\n",
       "      <td>1.007947</td>\n",
       "      <td>0</td>\n",
       "      <td>0.0</td>\n",
       "      <td>0.0</td>\n",
       "      <td>0.0</td>\n",
       "      <td>...</td>\n",
       "      <td>0.60000</td>\n",
       "      <td>0.0157</td>\n",
       "      <td>PHE</td>\n",
       "      <td>0</td>\n",
       "      <td>0</td>\n",
       "      <td>A</td>\n",
       "      <td></td>\n",
       "      <td>73.872333</td>\n",
       "      <td>31.744735</td>\n",
       "      <td>100.441828</td>\n",
       "    </tr>\n",
       "    <tr>\n",
       "      <th>2</th>\n",
       "      <td>-1</td>\n",
       "      <td>H2</td>\n",
       "      <td>H1</td>\n",
       "      <td>1</td>\n",
       "      <td>0.1921</td>\n",
       "      <td>1.007947</td>\n",
       "      <td>0</td>\n",
       "      <td>0.0</td>\n",
       "      <td>0.0</td>\n",
       "      <td>0.0</td>\n",
       "      <td>...</td>\n",
       "      <td>0.60000</td>\n",
       "      <td>0.0157</td>\n",
       "      <td>PHE</td>\n",
       "      <td>0</td>\n",
       "      <td>0</td>\n",
       "      <td>A</td>\n",
       "      <td></td>\n",
       "      <td>72.820797</td>\n",
       "      <td>32.504072</td>\n",
       "      <td>101.788330</td>\n",
       "    </tr>\n",
       "    <tr>\n",
       "      <th>3</th>\n",
       "      <td>-1</td>\n",
       "      <td>H3</td>\n",
       "      <td>H1</td>\n",
       "      <td>1</td>\n",
       "      <td>0.1921</td>\n",
       "      <td>1.007947</td>\n",
       "      <td>0</td>\n",
       "      <td>0.0</td>\n",
       "      <td>0.0</td>\n",
       "      <td>0.0</td>\n",
       "      <td>...</td>\n",
       "      <td>0.60000</td>\n",
       "      <td>0.0157</td>\n",
       "      <td>PHE</td>\n",
       "      <td>0</td>\n",
       "      <td>0</td>\n",
       "      <td>A</td>\n",
       "      <td></td>\n",
       "      <td>74.075112</td>\n",
       "      <td>31.169419</td>\n",
       "      <td>102.211246</td>\n",
       "    </tr>\n",
       "    <tr>\n",
       "      <th>4</th>\n",
       "      <td>-1</td>\n",
       "      <td>CA</td>\n",
       "      <td>C1</td>\n",
       "      <td>6</td>\n",
       "      <td>0.0733</td>\n",
       "      <td>12.010780</td>\n",
       "      <td>0</td>\n",
       "      <td>0.0</td>\n",
       "      <td>0.0</td>\n",
       "      <td>0.0</td>\n",
       "      <td>...</td>\n",
       "      <td>1.90800</td>\n",
       "      <td>0.1094</td>\n",
       "      <td>PHE</td>\n",
       "      <td>0</td>\n",
       "      <td>0</td>\n",
       "      <td>A</td>\n",
       "      <td></td>\n",
       "      <td>72.119999</td>\n",
       "      <td>30.453000</td>\n",
       "      <td>101.239004</td>\n",
       "    </tr>\n",
       "    <tr>\n",
       "      <th>...</th>\n",
       "      <td>...</td>\n",
       "      <td>...</td>\n",
       "      <td>...</td>\n",
       "      <td>...</td>\n",
       "      <td>...</td>\n",
       "      <td>...</td>\n",
       "      <td>...</td>\n",
       "      <td>...</td>\n",
       "      <td>...</td>\n",
       "      <td>...</td>\n",
       "      <td>...</td>\n",
       "      <td>...</td>\n",
       "      <td>...</td>\n",
       "      <td>...</td>\n",
       "      <td>...</td>\n",
       "      <td>...</td>\n",
       "      <td>...</td>\n",
       "      <td>...</td>\n",
       "      <td>...</td>\n",
       "      <td>...</td>\n",
       "      <td>...</td>\n",
       "    </tr>\n",
       "    <tr>\n",
       "      <th>6052</th>\n",
       "      <td>-1</td>\n",
       "      <td>HB2</td>\n",
       "      <td>H5</td>\n",
       "      <td>1</td>\n",
       "      <td>0.0813</td>\n",
       "      <td>1.007947</td>\n",
       "      <td>0</td>\n",
       "      <td>0.0</td>\n",
       "      <td>0.0</td>\n",
       "      <td>0.0</td>\n",
       "      <td>...</td>\n",
       "      <td>1.38700</td>\n",
       "      <td>0.0157</td>\n",
       "      <td>SER</td>\n",
       "      <td>371</td>\n",
       "      <td>371</td>\n",
       "      <td>B</td>\n",
       "      <td></td>\n",
       "      <td>11.375638</td>\n",
       "      <td>52.441964</td>\n",
       "      <td>110.352869</td>\n",
       "    </tr>\n",
       "    <tr>\n",
       "      <th>6053</th>\n",
       "      <td>-1</td>\n",
       "      <td>HB3</td>\n",
       "      <td>H5</td>\n",
       "      <td>1</td>\n",
       "      <td>0.0813</td>\n",
       "      <td>1.007947</td>\n",
       "      <td>0</td>\n",
       "      <td>0.0</td>\n",
       "      <td>0.0</td>\n",
       "      <td>0.0</td>\n",
       "      <td>...</td>\n",
       "      <td>1.38700</td>\n",
       "      <td>0.0157</td>\n",
       "      <td>SER</td>\n",
       "      <td>371</td>\n",
       "      <td>371</td>\n",
       "      <td>B</td>\n",
       "      <td></td>\n",
       "      <td>12.825245</td>\n",
       "      <td>52.519302</td>\n",
       "      <td>109.018984</td>\n",
       "    </tr>\n",
       "    <tr>\n",
       "      <th>6054</th>\n",
       "      <td>-1</td>\n",
       "      <td>OG</td>\n",
       "      <td>O2</td>\n",
       "      <td>8</td>\n",
       "      <td>-0.6514</td>\n",
       "      <td>15.999430</td>\n",
       "      <td>0</td>\n",
       "      <td>0.0</td>\n",
       "      <td>0.0</td>\n",
       "      <td>0.0</td>\n",
       "      <td>...</td>\n",
       "      <td>1.72100</td>\n",
       "      <td>0.2104</td>\n",
       "      <td>SER</td>\n",
       "      <td>371</td>\n",
       "      <td>371</td>\n",
       "      <td>B</td>\n",
       "      <td></td>\n",
       "      <td>13.422000</td>\n",
       "      <td>52.804999</td>\n",
       "      <td>110.892000</td>\n",
       "    </tr>\n",
       "    <tr>\n",
       "      <th>6055</th>\n",
       "      <td>-1</td>\n",
       "      <td>HG</td>\n",
       "      <td>H6</td>\n",
       "      <td>1</td>\n",
       "      <td>0.4474</td>\n",
       "      <td>1.007947</td>\n",
       "      <td>0</td>\n",
       "      <td>0.0</td>\n",
       "      <td>0.0</td>\n",
       "      <td>0.0</td>\n",
       "      <td>...</td>\n",
       "      <td>5.61231</td>\n",
       "      <td>0.0000</td>\n",
       "      <td>SER</td>\n",
       "      <td>371</td>\n",
       "      <td>371</td>\n",
       "      <td>B</td>\n",
       "      <td></td>\n",
       "      <td>12.873325</td>\n",
       "      <td>53.544245</td>\n",
       "      <td>111.687336</td>\n",
       "    </tr>\n",
       "    <tr>\n",
       "      <th>6056</th>\n",
       "      <td>-1</td>\n",
       "      <td>OXT</td>\n",
       "      <td>O1</td>\n",
       "      <td>8</td>\n",
       "      <td>-0.8132</td>\n",
       "      <td>15.999430</td>\n",
       "      <td>0</td>\n",
       "      <td>0.0</td>\n",
       "      <td>0.0</td>\n",
       "      <td>0.0</td>\n",
       "      <td>...</td>\n",
       "      <td>1.66120</td>\n",
       "      <td>0.2100</td>\n",
       "      <td>SER</td>\n",
       "      <td>371</td>\n",
       "      <td>371</td>\n",
       "      <td>B</td>\n",
       "      <td></td>\n",
       "      <td>10.970896</td>\n",
       "      <td>50.483751</td>\n",
       "      <td>109.267511</td>\n",
       "    </tr>\n",
       "  </tbody>\n",
       "</table>\n",
       "<p>6057 rows × 27 columns</p>\n",
       "</div>"
      ],
      "text/plain": [
       "      number name type  atomic_number  charge       mass  nb_idx  \\\n",
       "0         -1    N   N1              7  0.1737  14.006720       0   \n",
       "1         -1    H   H1              1  0.1921   1.007947       0   \n",
       "2         -1   H2   H1              1  0.1921   1.007947       0   \n",
       "3         -1   H3   H1              1  0.1921   1.007947       0   \n",
       "4         -1   CA   C1              6  0.0733  12.010780       0   \n",
       "...      ...  ...  ...            ...     ...        ...     ...   \n",
       "6052      -1  HB2   H5              1  0.0813   1.007947       0   \n",
       "6053      -1  HB3   H5              1  0.0813   1.007947       0   \n",
       "6054      -1   OG   O2              8 -0.6514  15.999430       0   \n",
       "6055      -1   HG   H6              1  0.4474   1.007947       0   \n",
       "6056      -1  OXT   O1              8 -0.8132  15.999430       0   \n",
       "\n",
       "      solvent_radius  screen  occupancy  ...  rmin_14 epsilon_14 resname  \\\n",
       "0                0.0     0.0        0.0  ...  1.82400     0.1700     PHE   \n",
       "1                0.0     0.0        0.0  ...  0.60000     0.0157     PHE   \n",
       "2                0.0     0.0        0.0  ...  0.60000     0.0157     PHE   \n",
       "3                0.0     0.0        0.0  ...  0.60000     0.0157     PHE   \n",
       "4                0.0     0.0        0.0  ...  1.90800     0.1094     PHE   \n",
       "...              ...     ...        ...  ...      ...        ...     ...   \n",
       "6052             0.0     0.0        0.0  ...  1.38700     0.0157     SER   \n",
       "6053             0.0     0.0        0.0  ...  1.38700     0.0157     SER   \n",
       "6054             0.0     0.0        0.0  ...  1.72100     0.2104     SER   \n",
       "6055             0.0     0.0        0.0  ...  5.61231     0.0000     SER   \n",
       "6056             0.0     0.0        0.0  ...  1.66120     0.2100     SER   \n",
       "\n",
       "      resid  resnum  chain  segid         xx         xy          xz  \n",
       "0         0       0      A         73.227000  31.442001  101.409998  \n",
       "1         0       0      A         73.872333  31.744735  100.441828  \n",
       "2         0       0      A         72.820797  32.504072  101.788330  \n",
       "3         0       0      A         74.075112  31.169419  102.211246  \n",
       "4         0       0      A         72.119999  30.453000  101.239004  \n",
       "...     ...     ...    ...    ...        ...        ...         ...  \n",
       "6052    371     371      B         11.375638  52.441964  110.352869  \n",
       "6053    371     371      B         12.825245  52.519302  109.018984  \n",
       "6054    371     371      B         13.422000  52.804999  110.892000  \n",
       "6055    371     371      B         12.873325  53.544245  111.687336  \n",
       "6056    371     371      B         10.970896  50.483751  109.267511  \n",
       "\n",
       "[6057 rows x 27 columns]"
      ]
     },
     "execution_count": 10,
     "metadata": {},
     "output_type": "execute_result"
    }
   ],
   "source": [
    "# debug display\n",
    "param.to_dataframe()"
   ]
  },
  {
   "cell_type": "code",
   "execution_count": 11,
   "metadata": {},
   "outputs": [],
   "source": [
    "# param.visualize()"
   ]
  },
  {
   "cell_type": "markdown",
   "metadata": {},
   "source": [
    "### Pairwise non-bonded interactions potentials"
   ]
  },
  {
   "cell_type": "code",
   "execution_count": 12,
   "metadata": {},
   "outputs": [],
   "source": [
    "# get indices of atoms for the 2 interacting subunits (could be more difficult if chain name doesn't match filename...)\n",
    "ids0, ids1 = (np.where(param.to_dataframe()['chain'].isin(cids))[0] for cids in subunits_chains)"
   ]
  },
  {
   "cell_type": "code",
   "execution_count": 13,
   "metadata": {},
   "outputs": [
    {
     "name": "stdout",
     "output_type": "stream",
     "text": [
      "U_LJ = -684.29 kJ/mol; U_elec = -490.91 kJ/mol\n"
     ]
    }
   ],
   "source": [
    "# sources\n",
    "# https://en.wikipedia.org/wiki/Electrostatics\n",
    "# https://en.wikipedia.org/wiki/Lennard-Jones_potential\n",
    "# https://en.wikipedia.org/wiki/Combining_rules\n",
    "\n",
    "# constants\n",
    "eps0 = 8.8541878128e-12 * su.farad * su.meter**-1\n",
    "e = 1.60217662e-19 * su.coulomb\n",
    "N = 6.02214179e23 * su.mole**-1 # Avogadro\n",
    "\n",
    "# scaling factors\n",
    "k0 = (N * (e*e) / (4.0 * np.pi * eps0))\n",
    "\n",
    "# get nonbonded interactions parameters for all atoms (Lennard-Jones and electrostatics)\n",
    "epsilon = np.array([a.epsilon for a in param.atoms])\n",
    "sigma = np.array([a.sigma for a in param.atoms])\n",
    "charge = np.array([a.charge for a in param.atoms])\n",
    "\n",
    "# pairwise epsilon with units\n",
    "E = np.sqrt(epsilon[ids0].reshape(-1,1) * epsilon[ids1].reshape(1,-1)) * param.atoms[0].uepsilon.unit\n",
    "\n",
    "# pairwise sigma with units\n",
    "S = 0.5*(sigma[ids0].reshape(-1,1) + sigma[ids1].reshape(1,-1)) * param.atoms[0].usigma.unit\n",
    "\n",
    "# pairwise partial charges\n",
    "Q = charge[ids0].reshape(-1,1) * charge[ids1].reshape(1,-1)\n",
    "\n",
    "# get atom coordinates and compute distance matrix between subunits\n",
    "xyz = param.get_coordinates()[0]\n",
    "D = np.linalg.norm(np.expand_dims(xyz[ids0], 1) - np.expand_dims(xyz[ids1], 0), axis=2) * su.angstrom\n",
    "\n",
    "# compute nonbonded potential energies\n",
    "U_LJ = (4.0 * E * (np.power(S/D, 12) - np.power(S/D, 6))).value_in_unit(su.kilojoule / su.mole)\n",
    "U_el = (k0 * Q / D).value_in_unit(su.kilojoule / su.mole)\n",
    "\n",
    "# debug print\n",
    "print(f\"U_LJ = {np.sum(U_LJ):.2f} kJ/mol; U_elec = {np.sum(U_el):.2f} kJ/mol\")"
   ]
  },
  {
   "cell_type": "markdown",
   "metadata": {},
   "source": [
    "### Pairwise non-bonded interactions potentials on minimized structure"
   ]
  },
  {
   "cell_type": "code",
   "execution_count": null,
   "metadata": {},
   "outputs": [],
   "source": [
    "ids0.shape"
   ]
  },
  {
   "cell_type": "code",
   "execution_count": 14,
   "metadata": {},
   "outputs": [
    {
     "name": "stdout",
     "output_type": "stream",
     "text": [
      "U_LJ = -684.28 kJ/mol; U_elec = -1939.08 kJ/mol\n"
     ]
    }
   ],
   "source": [
    "# create system\n",
    "system = param.createSystem(nonbondedMethod=so.app.NoCutoff)\n",
    "\n",
    "# setup MD engine\n",
    "integrator = so.LangevinIntegrator(300*su.kelvin, 1/su.picosecond, 0.002*su.picoseconds)\n",
    "platform = so.Platform.getPlatformByName('CPU')\n",
    "simulation = so.app.Simulation(param.topology, system, integrator, platform)\n",
    "\n",
    "# set atom coordinates\n",
    "simulation.context.setPositions(param.get_coordinates()[0] * su.angstrom)\n",
    "\n",
    "# minimize energy\n",
    "simulation.minimizeEnergy()\n",
    "\n",
    "# get state and new coordinates\n",
    "state = simulation.context.getState(getPositions=True)\n",
    "xyz_min = state.getPositions(asNumpy=True)\n",
    "\n",
    "# compute distance matrix\n",
    "D_min = np.linalg.norm(np.expand_dims(xyz_min._value[ids0], 1) - np.expand_dims(xyz_min._value[ids1], 0), axis=2) * xyz_min.unit\n",
    "\n",
    "# compute nonbonded potential energies\n",
    "U_LJ = (4.0 * E * (np.power(S/D_min, 12) - np.power(S/D_min, 6))).value_in_unit(su.kilojoule / su.mole)\n",
    "U_el = (k0 * Q / D_min).value_in_unit(su.kilojoule / su.mole)\n",
    "\n",
    "# debug print\n",
    "print(f\"U_LJ = {np.sum(U_LJ):.2f} kJ/mol; U_elec = {np.sum(U_el):.2f} kJ/mol\")"
   ]
  },
  {
   "cell_type": "code",
   "execution_count": 25,
   "metadata": {},
   "outputs": [
    {
     "data": {
      "text/plain": [
       "(Quantity(value=array([[ 7.29790314,  3.19615363, 10.24098658],\n",
       "        [ 7.26747402,  3.29251963, 10.24247127],\n",
       "        [ 7.38526573,  3.18792277, 10.19101289],\n",
       "        ...,\n",
       "        [ 1.29392818,  4.83367693, 11.12987776],\n",
       "        [ 1.37402371,  4.79994714, 11.08474182],\n",
       "        [ 1.11407383,  4.95640447, 10.76799476]]), unit=nanometer),\n",
       " (6057, 3))"
      ]
     },
     "execution_count": 25,
     "metadata": {},
     "output_type": "execute_result"
    }
   ],
   "source": [
    "xyz_min, xyz_min.shape"
   ]
  },
  {
   "cell_type": "code",
   "execution_count": 63,
   "metadata": {
    "scrolled": true
   },
   "outputs": [
    {
     "data": {
      "text/plain": [
       "(array([], dtype=int64), array([], dtype=int64))"
      ]
     },
     "execution_count": 63,
     "metadata": {},
     "output_type": "execute_result"
    }
   ],
   "source": [
    "ids0, ids1"
   ]
  },
  {
   "cell_type": "code",
   "execution_count": 38,
   "metadata": {},
   "outputs": [
    {
     "data": {
      "text/plain": [
       "((0, 3), (0, 3))"
      ]
     },
     "execution_count": 38,
     "metadata": {},
     "output_type": "execute_result"
    }
   ],
   "source": [
    "xyz_min._value[ids0].shape, xyz_min._value[ids1].shape"
   ]
  },
  {
   "cell_type": "code",
   "execution_count": 31,
   "metadata": {},
   "outputs": [
    {
     "data": {
      "text/plain": [
       "Quantity(value=array([], shape=(0, 0), dtype=float64), unit=nanometer)"
      ]
     },
     "execution_count": 31,
     "metadata": {},
     "output_type": "execute_result"
    }
   ],
   "source": [
    "D_min"
   ]
  },
  {
   "cell_type": "code",
   "execution_count": 11,
   "metadata": {},
   "outputs": [],
   "source": [
    "# save pdb with non-minimized and minimized structures\n",
    "#param.coordinates = np.stack([param.coordinates, xyz_min.value_in_unit(su.angstrom)], axis=0)\n",
    "#param.save(tmp_filepath, overwrite=True)"
   ]
  },
  {
   "cell_type": "code",
   "execution_count": 12,
   "metadata": {},
   "outputs": [],
   "source": [
    "#param.visualize()"
   ]
  },
  {
   "cell_type": "code",
   "execution_count": null,
   "metadata": {},
   "outputs": [],
   "source": []
  }
 ],
 "metadata": {
  "kernelspec": {
   "display_name": "Python 3",
   "language": "python",
   "name": "python3"
  },
  "language_info": {
   "codemirror_mode": {
    "name": "ipython",
    "version": 3
   },
   "file_extension": ".py",
   "mimetype": "text/x-python",
   "name": "python",
   "nbconvert_exporter": "python",
   "pygments_lexer": "ipython3",
   "version": "3.7.8"
  }
 },
 "nbformat": 4,
 "nbformat_minor": 4
}
